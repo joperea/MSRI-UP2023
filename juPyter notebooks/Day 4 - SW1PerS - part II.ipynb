{
 "cells": [
  {
   "cell_type": "markdown",
   "id": "1342af2a",
   "metadata": {},
   "source": [
    "# SW1PerS: Sliding Windows and 1-Persistence Scoring - Solutions\n",
    "\n",
    "### MSRI-UP 2023\n",
    "\n",
    "Authors: Jose Perea \n",
    "\n",
    "Date: 06/15/2023\n",
    "\n",
    "\n",
    "---\n"
   ]
  },
  {
   "cell_type": "markdown",
   "id": "8878782f",
   "metadata": {},
   "source": [
    "### Activity: \n",
    "\n",
    "Write a python function which takes as input a time series $f$, enconded as a list or an array, a time delay $\\tau > 0$, an embedding dimension $d \\in \\mathbb{N}$, a number of points `n_data`, and returns the corresponding sliding window point cloud   "
   ]
  },
  {
   "cell_type": "markdown",
   "id": "cc9ede16",
   "metadata": {},
   "source": [
    "---\n",
    "\n",
    "\n",
    "<img src=\"https://i.ibb.co/3R9P6p7/SW.png\" alt=\"test-1\" border=\"0\" width=650px>\n"
   ]
  },
  {
   "cell_type": "code",
   "execution_count": null,
   "id": "e09e8012",
   "metadata": {},
   "outputs": [],
   "source": [
    "## Your work here\n",
    "\n",
    "import numpy as np\n",
    "from scipy.interpolate import CubicSpline\n",
    "\n",
    "from matplotlib import pyplot as plt\n",
    "\n",
    "def SW_cloud(f, tau, d, n_data):\n",
    "    # Inputs:\n",
    "    # f : time series -- array of size (2,N) (x and y values) or (1,N) (only y values)\n",
    "    # tau: delay -- positive real number\n",
    "    # d : gives embedding dimension d+1 -- integer\n",
    "    # n_data : desired number of points in SW point cloud -- intenger\n",
    "    #\n",
    "    # Output:\n",
    "    # SW : sliding window point cloud -- array of size (n_data,  d+1)\n",
    "    \n",
    "    #Step 1: turn f into a cubic spline\n",
    " \n",
    "    \n",
    "    #Step 2: create the t values where to evaluate SW_f\n",
    " \n",
    "    \n",
    "    #Step 3: evaluate the sliding window point cloud\n",
    " \n",
    "    \n",
    "    return SW\n"
   ]
  },
  {
   "cell_type": "code",
   "execution_count": null,
   "id": "23a78a45",
   "metadata": {},
   "outputs": [],
   "source": [
    "## Test it here\n",
    "\n",
    "x_vals = np.linspace(0 , 80*np.pi, 1000)\n",
    "y_vals = np.sin(x_vals) # + 1.1*np.sin(np.sqrt(3)*x_vals)\n",
    "\n",
    "plt.figure(figsize = (14,2))\n",
    "plt.plot(x_vals, y_vals);\n",
    "\n",
    "f = np.array([x_vals, y_vals]) ## <---- toy time series\n",
    "d = 4\n",
    "tau = 1.5\n",
    "n_data = 5000\n",
    "\n",
    "SW = SW_cloud(f,tau, d, n_data )\n",
    "print('The sliding window point cloud has shape', SW.shape)"
   ]
  },
  {
   "cell_type": "code",
   "execution_count": null,
   "id": "a8a4cf25",
   "metadata": {},
   "outputs": [],
   "source": [
    "## Visualize the sliding window point cloud with PCA:\n",
    "\n",
    "from sklearn.decomposition import PCA\n",
    "import plotly.graph_objects as go\n",
    "from plotly.subplots import make_subplots\n",
    "\n",
    "pca = PCA(n_components=5)\n",
    "SW_pca = pca.fit(SW).transform(SW)\n",
    "\n",
    "print('Explained Variance', pca.explained_variance_ratio_)\n",
    "\n",
    "fig = go.Figure(data=[go.Scatter3d(\n",
    "    x=SW_pca[:,0], y=SW_pca[:,1], z=SW_pca[:,2], \n",
    "    mode ='markers', \n",
    "    marker=dict(size = 1.5, color = 'grey')\n",
    ")] , layout = go.Layout(scene = dict(aspectmode= 'data')))\n",
    "\n",
    "fig.show()"
   ]
  },
  {
   "cell_type": "code",
   "execution_count": null,
   "id": "28826037",
   "metadata": {},
   "outputs": [],
   "source": [
    "# Compute the persistent homology of the SW point cloud"
   ]
  },
  {
   "cell_type": "markdown",
   "id": "b15ff70a",
   "metadata": {},
   "source": [
    "### Not Periodic VS Periodic VS Quasiperiodic"
   ]
  },
  {
   "cell_type": "code",
   "execution_count": null,
   "id": "84ae2d28",
   "metadata": {},
   "outputs": [],
   "source": [
    "x_vals = np.linspace(0 , 80*np.pi, 1000)\n",
    "\n",
    "y_not_per  = np.random.rand(len(x_vals))\n",
    "y_per  = np.sin(x_vals)\n",
    "y_qper  = np.sin(x_vals) + 1.1*np.sin(np.sqrt(3)*x_vals)\n",
    "\n",
    "plt.figure(figsize = (12,5)) \n",
    "plt.subplot(3,1,1)\n",
    "plt.plot(x_vals, y_not_per)\n",
    "\n",
    "plt.subplot(3,1,2)\n",
    "plt.plot(x_vals, y_per)\n",
    "\n",
    "plt.subplot(3,1,3)\n",
    "plt.plot(x_vals, y_qper)"
   ]
  },
  {
   "cell_type": "code",
   "execution_count": null,
   "id": "4c6d7733",
   "metadata": {},
   "outputs": [],
   "source": [
    "# Slidng window point clouds\n",
    "\n",
    "d = 4\n",
    "tau = 1.5\n",
    "n_data = 5000\n",
    "\n",
    "f_not_per = np.array([x_vals, y_not_per])\n",
    "SW_not_per = SW_cloud(f_not_per, tau, d, n_data )\n",
    "\n",
    "f_per = np.array([x_vals, y_per])\n",
    "SW_per = SW_cloud(f_per, tau, d, n_data )\n",
    "\n",
    "f_qper = np.array([x_vals, y_qper])\n",
    "SW_qper = SW_cloud(f_qper, tau, d, n_data )"
   ]
  },
  {
   "cell_type": "code",
   "execution_count": null,
   "id": "380f1fb5",
   "metadata": {},
   "outputs": [],
   "source": [
    "# Persistent homology computations\n",
    "\n",
    "n_landmarks = 200\n",
    "prime_coeff = 7\n",
    "\n",
    "rips_not_per = ripser(SW_not_per, n_perm = n_landmarks, coeff = prime_coeff, maxdim=2)\n",
    "dgms_not_per = rips_not_per['dgms']\n",
    "\n",
    "rips_per = ripser(SW_per, n_perm = n_landmarks, coeff = prime_coeff, maxdim=2)\n",
    "dgms_per = rips_per['dgms']\n",
    "\n",
    "rips_qper = ripser(SW_qper, n_perm = n_landmarks, coeff = prime_coeff, maxdim=2)\n",
    "dgms_qper = rips_qper['dgms']\n"
   ]
  },
  {
   "cell_type": "code",
   "execution_count": null,
   "id": "9bafeee3",
   "metadata": {},
   "outputs": [],
   "source": [
    "plt.figure(figsize = (12,3)) \n",
    "plt.subplot(1,3,1)\n",
    "plot_diagrams(dgms_per)\n",
    "plt.title('$\\mathsf{dgm}^\\mathcal{R}_{*}(SW_{Per}; \\mathbb{Z}_{' + str(prime_coeff) +'})$');\n",
    "x_left, x_right = plt.xlim()\n",
    "y_left, y_right = plt.ylim()\n",
    "\n",
    "plt.subplot(1,3,3)\n",
    "plot_diagrams(dgms_not_per, xy_range  = [x_left, x_right, y_left, y_right] )\n",
    "plt.title('$\\mathsf{dgm}^\\mathcal{R}_{*}(SW_{notPer}; \\mathbb{Z}_{' + str(prime_coeff) +'})$');\n",
    "\n",
    "plt.subplot(1,3,2)\n",
    "plot_diagrams(dgms_qper, xy_range  = [x_left, x_right, y_left, y_right] )\n",
    "plt.title('$\\mathsf{dgm}^\\mathcal{R}_{*}(SW_{qPer}; \\mathbb{Z}_{' + str(prime_coeff) +'})$');\n",
    "plt.show()"
   ]
  },
  {
   "cell_type": "markdown",
   "id": "2d84a71e",
   "metadata": {},
   "source": [
    "### Maximum persistence as periodicity score\n",
    "\n",
    "$$\n",
    "mp_1 = \\max \\big\\{ b - a \\; : \\; (a,b) \\in \\mathsf{dgm}_1(\\mathcal{R}(\\mathbb{SW}_{d,\\tau} f))\\big\\}\n",
    "$$\n",
    "\n",
    "\n",
    "### Activity\n",
    "\n",
    "Write a python function which computes $mp_1$. Test it on the periodic, quasiperiodic and not periodic time series above."
   ]
  },
  {
   "cell_type": "code",
   "execution_count": null,
   "id": "0143d23e",
   "metadata": {},
   "outputs": [],
   "source": [
    "# your work here\n",
    "\n",
    "def max_pers():\n",
    "    \n",
    "    return "
   ]
  },
  {
   "cell_type": "markdown",
   "id": "2e4276c7",
   "metadata": {},
   "source": [
    "---\n",
    "### Activity: Choosing $d$ and $\\tau$\n",
    "\n",
    "See Question 1, Homework 1 - Day 4\n",
    "\n",
    "---"
   ]
  },
  {
   "cell_type": "markdown",
   "id": "9bb57d08",
   "metadata": {},
   "source": [
    "### Activity\n",
    "\n",
    "1. Import the liver data `hughes2009-liver_res.xlx`. Each row encodes the gene expression profile of a particular gene in the liver of the mouse. \n",
    "2. Compute $mp_1$ for each row in the data, with approprimate parameters  $d$, $\\tau$ and `n_data`.\n",
    "3. Rank order the genes from most periodic to least periodic. Do the rankings make sense?"
   ]
  },
  {
   "cell_type": "code",
   "execution_count": null,
   "id": "77c957ef",
   "metadata": {},
   "outputs": [],
   "source": [
    "# Your work here\n",
    "\n",
    "\n",
    "\n"
   ]
  },
  {
   "cell_type": "markdown",
   "id": "5f620351",
   "metadata": {},
   "source": [
    "---\n",
    "\n",
    "## Video SW1PerS"
   ]
  },
  {
   "cell_type": "code",
   "execution_count": null,
   "id": "a415f7b9",
   "metadata": {},
   "outputs": [],
   "source": [
    "## Installs \n",
    "\n",
    "!pip install Pillow\n",
    "!pip install opencv-python\n",
    "\n",
    "# re-start kernel once you run this cell. Only need to run this once."
   ]
  },
  {
   "cell_type": "code",
   "execution_count": null,
   "id": "a78f5603",
   "metadata": {},
   "outputs": [],
   "source": [
    "from PIL import Image\n",
    "import cv2\n",
    "import glob\n",
    "from scipy import interpolate\n",
    "\n",
    "# Auxiliary video functions\n",
    "def getSlidingWindowVideo(I, dim, Tau, dT):\n",
    "    N = I.shape[0] #Number of frames\n",
    "    P = I.shape[1] #Number of pixels (possibly after PCA)\n",
    "    pix = np.arange(P)\n",
    "    NWindows = int(np.floor((N-dim*Tau)/dT))\n",
    "    X = np.zeros((NWindows, dim*P))\n",
    "    idx = np.arange(N)\n",
    "    for i in range(NWindows):\n",
    "        idxx = dT*i + Tau*np.arange(dim)\n",
    "        start = int(np.floor(idxx[0]))\n",
    "        end = int(np.ceil(idxx[-1]))\n",
    "        f = interpolate.interp2d(pix, idx[start:end+1], I[idx[start:end+1], :], kind='linear')\n",
    "        X[i, :] = f(pix, idxx).flatten()\n",
    "    return X\n",
    "\n",
    "def writeVideo(filename, frame_data, fps, resol ):\n",
    "    n_row, n_col = resol\n",
    "    out = cv2.VideoWriter(filename, cv2.VideoWriter_fourcc(*'mp4v'), fps, (n_col, n_row))\n",
    "    if frame_data.dtype !='uint8':\n",
    "        frame_data -= np.amin(frame_data)\n",
    "        frame_data *= 255/np.amax(frame_data)\n",
    "        frame_data = np.uint8(frame_data)\n",
    "    for frame in frame_data:\n",
    "        out.write(frame.reshape((n_row, n_col,-1)))\n",
    "    out.release()\n",
    "\n",
    "def playVideo(filepath):\n",
    "    cap = cv2.VideoCapture(filepath)\n",
    "    while cap.isOpened():\n",
    "        ret, frame = cap.read()\n",
    "        if not ret:\n",
    "            break\n",
    "        #frame = cv2.cvtColor(frame, cv2.COLOR_BGR2GRAY)\n",
    "        cv2.imshow('frame', frame)\n",
    "        if cv2.waitKey(24) == ord('q'):\n",
    "            break\n",
    "    cap.release()\n",
    "    cv2.destroyAllWindows()  \n",
    "\n",
    "def loadVideo(filepath):\n",
    "    vid = cv2.VideoCapture(filepath)\n",
    "    _, image = vid.read()\n",
    "    count = 0\n",
    "    success = True\n",
    "    n_row, n_col, _ = image.shape\n",
    "    data = []\n",
    "    while success:\n",
    "        data.append(image.flatten()) \n",
    "        success,image = vid.read()\n",
    "        count += 1\n",
    "    vid.release() \n",
    "    data = np.array(data)\n",
    "    print(count, \" frames extracted\")\n",
    "    print(\"frame size = \", (n_row , n_col))\n",
    "    print(\"data shape =\", data.shape)\n",
    "    return data , (n_row, n_col)"
   ]
  },
  {
   "cell_type": "code",
   "execution_count": null,
   "id": "9ef0c68e",
   "metadata": {},
   "outputs": [],
   "source": [
    "# Play the video\n",
    "\n",
    "playVideo('data/dots_quasi.wmv')"
   ]
  },
  {
   "cell_type": "code",
   "execution_count": null,
   "id": "73ade7ea",
   "metadata": {},
   "outputs": [],
   "source": [
    "data , shape = loadVideo('data/dots_quasi.wmv')\n",
    "n_row, n_col = shape"
   ]
  },
  {
   "cell_type": "code",
   "execution_count": null,
   "id": "1e4848ac",
   "metadata": {},
   "outputs": [],
   "source": [
    "# Construct the sliding window pointcloud of video data\n",
    "wSize = 16\n",
    "dim = 5\n",
    "Tau = wSize/float(dim)\n",
    "\n",
    "desiredSamples = 600\n",
    "M = data.shape[0] - wSize + 1\n",
    "dT = M/float(desiredSamples)\n",
    "\n",
    "X = getSlidingWindowVideo(data, dim, Tau, dT)\n",
    "\n",
    "XS = X - np.mean(X, 1)[:, None]\n",
    "XS = XS/np.sqrt(np.sum(XS**2, 1))[:, None]\n",
    "\n",
    "X = X - np.amin(X)\n",
    "X = X/np.amax(X)\n",
    "X = np.uint8(X*255)\n",
    "frame_data = X[:, 0:data.shape[1]]"
   ]
  },
  {
   "cell_type": "code",
   "execution_count": null,
   "id": "db7958a5",
   "metadata": {},
   "outputs": [],
   "source": [
    "# PCA of the Sliding window point cloud\n",
    "pca = PCA(n_components=25)\n",
    "XS_pca = pca.fit(XS).transform(XS)\n",
    "plt.figure(figsize = (3.8,1.5))\n",
    "plt.plot(pca.explained_variance_ratio_, '-*') ;\n",
    "plt.title('Explained PCA variance -Sliding Window');"
   ]
  },
  {
   "cell_type": "code",
   "execution_count": null,
   "id": "3e9bbd21",
   "metadata": {},
   "outputs": [],
   "source": [
    "fig = go.Figure(data=[go.Scatter3d(\n",
    "    x=XS_pca[:,0], y=XS_pca[:,1], z=XS_pca[:,2], \n",
    "    mode ='markers', \n",
    "#    marker=dict(size = 3, color = np.arange(data.shape[0]) , colorscale='plasma' , opacity = 1)\n",
    "    marker=dict(size = 3, color = 'grey', opacity = 1)\n",
    ")])\n",
    "\n",
    "fig.update_layout( width=900, height=450) \n",
    "fig.show()"
   ]
  },
  {
   "cell_type": "code",
   "execution_count": null,
   "id": "2c7c47f5",
   "metadata": {},
   "outputs": [],
   "source": [
    "# Compute persistence diagrams of the pca vesion of the sliding window point cloud\n",
    "res = ripser(XS_pca, maxdim=2, n_perm =150, coeff =13, thresh = 0.9)\n",
    "dgms = res['dgms']\n",
    "plt.figure(figsize = (3,3)) \n",
    "plot_diagrams(dgms)"
   ]
  }
 ],
 "metadata": {
  "kernelspec": {
   "display_name": "Python 3 (ipykernel)",
   "language": "python",
   "name": "python3"
  },
  "language_info": {
   "codemirror_mode": {
    "name": "ipython",
    "version": 3
   },
   "file_extension": ".py",
   "mimetype": "text/x-python",
   "name": "python",
   "nbconvert_exporter": "python",
   "pygments_lexer": "ipython3",
   "version": "3.8.16"
  }
 },
 "nbformat": 4,
 "nbformat_minor": 5
}
